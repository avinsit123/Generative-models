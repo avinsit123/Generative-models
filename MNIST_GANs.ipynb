{
  "nbformat": 4,
  "nbformat_minor": 0,
  "metadata": {
    "colab": {
      "name": "GANs.ipynb",
      "version": "0.3.2",
      "provenance": [],
      "include_colab_link": true
    },
    "kernelspec": {
      "name": "python3",
      "display_name": "Python 3"
    },
    "accelerator": "GPU"
  },
  "cells": [
    {
      "cell_type": "markdown",
      "metadata": {
        "id": "view-in-github",
        "colab_type": "text"
      },
      "source": [
        "[View in Colaboratory](https://colab.research.google.com/github/avinsit123/Generative-models/blob/master/MNIST_GANs.ipynb)"
      ]
    },
    {
      "metadata": {
        "id": "FdnxXqvNUvCJ",
        "colab_type": "code",
        "colab": {
          "base_uri": "https://localhost:8080/",
          "height": 96
        },
        "outputId": "f6eb6c66-3ea5-4029-a162-e92580292096"
      },
      "cell_type": "code",
      "source": [
        "import keras\n",
        "import numpy as np\n",
        "from keras.datasets import mnist\n",
        "from keras.layers import Conv2D\n",
        "from keras.layers import BatchNormalization\n",
        "from keras.layers import UpSampling2D\n",
        "from keras.layers import Reshape\n",
        "from keras.layers import Dropout\n",
        "from keras.layers import Flatten\n",
        "from keras.layers import Dense\n",
        "from keras.layers import Input\n",
        "from keras.layers.advanced_activations import LeakyReLU\n",
        "from keras.models import Sequential\n",
        "from keras.models import Model\n",
        "from keras.optimizers import Adam"
      ],
      "execution_count": 3,
      "outputs": [
        {
          "output_type": "stream",
          "text": [
            "Using TensorFlow backend.\n"
          ],
          "name": "stderr"
        }
      ]
    },
    {
      "metadata": {
        "id": "bBMEPQbbp4UG",
        "colab_type": "code",
        "colab": {}
      },
      "cell_type": "code",
      "source": [
        "#define the class for GANs\n",
        "class GAN():\n",
        "  def __init__(self):\n",
        "    self.img_rows=28\n",
        "    self.img_cols=28\n",
        "    self.channels=1\n",
        "    self.img_shape=(self.img_rows,self.img_cols,self.channels)\n",
        "    self.latent_dims=100\n",
        "    \n",
        "    #build the discriminator\n",
        "    self.discriminator=self.build_disc()\n",
        "    self.discriminator.compile(loss=\"binary_crossentropy\",optimizer=Adam(),metrics=['accuracy'])\n",
        "    \n",
        "    self.generator=self.gen_mod()\n",
        "    \n",
        "    #generator takes in noise\n",
        "    z=Input(shape=(self.latent_dims,))\n",
        "    img=self.generator(z)\n",
        "    val=self.discriminator(img)\n",
        "    self.discriminator.trainable=False\n",
        "    \n",
        "    self.combi=Model(z,val)\n",
        "    self.combi.compile(loss='binary_crossentropy',optimizer=Adam())\n",
        "    \n",
        "    \n",
        "  def gen_mod(self):\n",
        "      Generator=Sequential()\n",
        "      Generator.add(Dense(128*14*14,activation='relu',input_dim=self.latent_dims))\n",
        "      Generator.add(BatchNormalization())\n",
        "      Generator.add(Reshape([14,14,128]))\n",
        "      Generator.add(UpSampling2D(size=(2,2)))\n",
        "      Generator.add(Conv2D(8,(3,3),padding='same',activation='relu'))\n",
        "      Generator.add(BatchNormalization())\n",
        "      Generator.add(Conv2D(16,(3,3),padding='same',activation='relu'))\n",
        "      Generator.add(BatchNormalization())\n",
        "      Generator.add(Conv2D(1,(3,3),padding='same',activation='sigmoid'))\n",
        "      Generator.compile(loss='binary_crossentropy',optimizer=Adam())\n",
        "      Generator.summary()\n",
        "      z=Input(shape=(self.latent_dims,))\n",
        "      img=Generator(z)\n",
        "      \n",
        "      return Model(z,img)\n",
        "    \n",
        "  def build_disc(self):\n",
        "      model=Sequential()\n",
        "      model.add(Conv2D(28,(3,3),strides=2,input_shape=(self.img_rows,self.img_cols,self.channels,),padding='same',activation='relu'))\n",
        "      model.add(Dropout(0.3))\n",
        "      model.add(Conv2D(64,(3,3),strides=2,padding='same',activation='relu'))\n",
        "      model.add(BatchNormalization(momentum=0.8))\n",
        "      model.add(Dropout(0.3))\n",
        "      model.add(Conv2D(12, kernel_size=3, strides=2, padding=\"same\"))\n",
        "      model.add(BatchNormalization(momentum=0.8))\n",
        "      model.add(LeakyReLU(alpha=0.2))\n",
        "      model.add(Dropout(0.25))\n",
        "      model.add(Flatten())\n",
        "      model.add(Dense(1,activation='sigmoid'))\n",
        "      model.summary()\n",
        "      img = Input(shape=(self.img_rows,self.img_cols,self.channels,))\n",
        "      validity = model(img)\n",
        "\n",
        "      return Model(img, validity)\n",
        "    \n",
        "  def train(self,epochs,batch_size=32,saves=30):\n",
        "      \n",
        "      (X_train,_),(_,_)=mnist.load_data()\n",
        "      X_train=X_train.astype('float32')/255\n",
        "      X_train=np.expand_dims(X_train,axis=3)\n",
        "      \n",
        "      valid=np.ones((batch_size,1))\n",
        "      fake=np.zeros((batch_size,1))\n",
        "      \n",
        "      \n",
        "      for run in range(epochs):\n",
        "        idx=np.random.randint(1,X_train.shape[0],batch_size)\n",
        "        imgs=X_train[idx]\n",
        "        #imgs=imgs.reshape(self.img_rows,self.img_cols,self.channels,batch_size)\n",
        "                \n",
        "        \n",
        "        noise = np.random.normal(0, 1, (batch_size, self.latent_dims))\n",
        "        gen_img=self.generator.predict(noise)\n",
        "        \n",
        "        \n",
        "        loss_real=self.discriminator.train_on_batch(imgs,valid)\n",
        "        loss_fake=self.discriminator.train_on_batch(gen_img,fake)\n",
        "        loss=(np.asarray(loss_real)+np.asarray(loss_fake))/2\n",
        "        \n",
        "        genloss=self.combi.train_on_batch(noise,valid)\n",
        "        \n",
        "        #Sample some noise\n",
        "        if(run%500==0):\n",
        "          print (\"%d [D loss: %f, acc.: %.2f%%] [G loss: %f]\" % (run, loss[0], 100*loss[1], genloss))\n",
        "    \n",
        "    "
      ],
      "execution_count": 0,
      "outputs": []
    },
    {
      "metadata": {
        "id": "yjBuKr0cvDUm",
        "colab_type": "code",
        "colab": {
          "base_uri": "https://localhost:8080/",
          "height": 208
        },
        "outputId": "7800bd5d-01af-4d6c-dc0a-eb535261c3e6"
      },
      "cell_type": "code",
      "source": [
        "!wget https://bin.equinox.io/c/4VmDzA7iaHb/ngrok-stable-linux-amd64.zip\n",
        "!unzip ngrok-stable-linux-amd64.zip"
      ],
      "execution_count": 54,
      "outputs": [
        {
          "output_type": "stream",
          "text": [
            "\n",
            "Redirecting output to ‘wget-log’.\n",
            "Archive:  ngrok-stable-linux-amd64.zip\n",
            "  inflating: ngrok                   \n"
          ],
          "name": "stdout"
        }
      ]
    },
    {
      "metadata": {
        "id": "EoHjVKJWvOeK",
        "colab_type": "code",
        "colab": {
          "base_uri": "https://localhost:8080/",
          "height": 148
        },
        "outputId": "92d63a07-33be-4496-ece0-0a0c01132599"
      },
      "cell_type": "code",
      "source": [
        "LOG_DIR = './log'\n",
        "get_ipython().system_raw(\n",
        "    'tensorboard --logdir {} --host 0.0.0.0 --port 6006 &'\n",
        "    .format(LOG_DIR)\n",
        ")\n",
        "get_ipython().system_raw('./ngrok http 6006 &')\n",
        "! curl -s http://localhost:4040/api/tunnels | python3 -c \\\n",
        "    \"import sys, json; print(json.load(sys.stdin)['tunnels'][0]['public_url'])\""
      ],
      "execution_count": 55,
      "outputs": [
        {
          "output_type": "stream",
          "text": [
            "http://79e78b99.ngrok.io\n"
          ],
          "name": "stdout"
        }
      ]
    },
    {
      "metadata": {
        "id": "wZ4iMYmGo1dV",
        "colab_type": "code",
        "colab": {
          "base_uri": "https://localhost:8080/",
          "height": 1181
        },
        "outputId": "907c9347-323e-40c6-f953-4571b2273e57"
      },
      "cell_type": "code",
      "source": [
        "\n",
        "dcgan=GAN()\n",
        "dcgan.train(4000)\n",
        "print(dcgan.img_cols)"
      ],
      "execution_count": 5,
      "outputs": [
        {
          "output_type": "stream",
          "text": [
            "_________________________________________________________________\n",
            "Layer (type)                 Output Shape              Param #   \n",
            "=================================================================\n",
            "conv2d_1 (Conv2D)            (None, 14, 14, 28)        280       \n",
            "_________________________________________________________________\n",
            "dropout_1 (Dropout)          (None, 14, 14, 28)        0         \n",
            "_________________________________________________________________\n",
            "conv2d_2 (Conv2D)            (None, 7, 7, 64)          16192     \n",
            "_________________________________________________________________\n",
            "batch_normalization_1 (Batch (None, 7, 7, 64)          256       \n",
            "_________________________________________________________________\n",
            "dropout_2 (Dropout)          (None, 7, 7, 64)          0         \n",
            "_________________________________________________________________\n",
            "conv2d_3 (Conv2D)            (None, 4, 4, 12)          6924      \n",
            "_________________________________________________________________\n",
            "batch_normalization_2 (Batch (None, 4, 4, 12)          48        \n",
            "_________________________________________________________________\n",
            "leaky_re_lu_1 (LeakyReLU)    (None, 4, 4, 12)          0         \n",
            "_________________________________________________________________\n",
            "dropout_3 (Dropout)          (None, 4, 4, 12)          0         \n",
            "_________________________________________________________________\n",
            "flatten_1 (Flatten)          (None, 192)               0         \n",
            "_________________________________________________________________\n",
            "dense_1 (Dense)              (None, 1)                 193       \n",
            "=================================================================\n",
            "Total params: 23,893\n",
            "Trainable params: 23,741\n",
            "Non-trainable params: 152\n",
            "_________________________________________________________________\n",
            "_________________________________________________________________\n",
            "Layer (type)                 Output Shape              Param #   \n",
            "=================================================================\n",
            "dense_2 (Dense)              (None, 25088)             2533888   \n",
            "_________________________________________________________________\n",
            "batch_normalization_3 (Batch (None, 25088)             100352    \n",
            "_________________________________________________________________\n",
            "reshape_1 (Reshape)          (None, 14, 14, 128)       0         \n",
            "_________________________________________________________________\n",
            "up_sampling2d_1 (UpSampling2 (None, 28, 28, 128)       0         \n",
            "_________________________________________________________________\n",
            "conv2d_4 (Conv2D)            (None, 28, 28, 8)         9224      \n",
            "_________________________________________________________________\n",
            "batch_normalization_4 (Batch (None, 28, 28, 8)         32        \n",
            "_________________________________________________________________\n",
            "conv2d_5 (Conv2D)            (None, 28, 28, 16)        1168      \n",
            "_________________________________________________________________\n",
            "batch_normalization_5 (Batch (None, 28, 28, 16)        64        \n",
            "_________________________________________________________________\n",
            "conv2d_6 (Conv2D)            (None, 28, 28, 1)         145       \n",
            "=================================================================\n",
            "Total params: 2,644,873\n",
            "Trainable params: 2,594,649\n",
            "Non-trainable params: 50,224\n",
            "_________________________________________________________________\n"
          ],
          "name": "stdout"
        },
        {
          "output_type": "stream",
          "text": [
            "/usr/local/lib/python3.6/dist-packages/keras/engine/training.py:975: UserWarning: Discrepancy between trainable weights and collected trainable weights, did you set `model.trainable` without calling `model.compile` after ?\n",
            "  'Discrepancy between trainable weights and collected trainable'\n"
          ],
          "name": "stderr"
        },
        {
          "output_type": "stream",
          "text": [
            "0 [D loss: 0.901083, acc.: 48.44%] [G loss: 0.948172]\n",
            "500 [D loss: 0.116317, acc.: 96.88%] [G loss: 2.584510]\n",
            "1000 [D loss: 0.160664, acc.: 96.88%] [G loss: 2.854530]\n",
            "1500 [D loss: 0.678483, acc.: 65.62%] [G loss: 3.550833]\n",
            "2000 [D loss: 0.426986, acc.: 78.12%] [G loss: 3.079059]\n",
            "2500 [D loss: 0.179412, acc.: 96.88%] [G loss: 1.708482]\n",
            "3000 [D loss: 0.071614, acc.: 98.44%] [G loss: 1.631464]\n",
            "3500 [D loss: 0.604156, acc.: 64.06%] [G loss: 2.189312]\n",
            "28\n"
          ],
          "name": "stdout"
        }
      ]
    },
    {
      "metadata": {
        "id": "PogoQuGytOtL",
        "colab_type": "code",
        "colab": {
          "base_uri": "https://localhost:8080/",
          "height": 3333
        },
        "outputId": "175a3dcd-12ed-4415-e3b7-65d985805cac"
      },
      "cell_type": "code",
      "source": [
        "import tensorflow as tf\n",
        "import matplotlib.pyplot as plt\n",
        "\n",
        "for i in range(10):\n",
        "  img=dcgan.generator.predict(np.random.normal(0, 1, (1, 100)))\n",
        "  plt.imshow(img.reshape(28,28))\n",
        "  plt.show()\n"
      ],
      "execution_count": 9,
      "outputs": [
        {
          "output_type": "display_data",
          "data": {
            "image/png": "[encoded data removed]",
            "text/plain": [
              "<matplotlib.figure.Figure at 0x7f4056c4c160>"
            ]
          },
          "metadata": {
            "tags": []
          }
        },
        {
          "output_type": "display_data",
          "data": {
            "image/png": "[encoded data removed]",
            "text/plain": [
              "<matplotlib.figure.Figure at 0x7f403eeea978>"
            ]
          },
          "metadata": {
            "tags": []
          }
        },
        {
          "output_type": "display_data",
          "data": {
            "image/png": "[encoded data removed]",
            "text/plain": [
              "<matplotlib.figure.Figure at 0x7f4056c25b38>"
            ]
          },
          "metadata": {
            "tags": []
          }
        },
        {
          "output_type": "display_data",
          "data": {
            "image/png": "[encoded data removed]",
            "text/plain": [
              "<matplotlib.figure.Figure at 0x7f403ee80c50>"
            ]
          },
          "metadata": {
            "tags": []
          }
        },
        {
          "output_type": "display_data",
          "data": {
            "image/png": "[encoded data removed]",
            "text/plain": [
              "<matplotlib.figure.Figure at 0x7f403edf87b8>"
            ]
          },
          "metadata": {
            "tags": []
          }
        },
        {
          "output_type": "display_data",
          "data": {
            "image/png": "[encoded data removed]",
            "text/plain": [
              "<matplotlib.figure.Figure at 0x7f403ed69f28>"
            ]
          },
          "metadata": {
            "tags": []
          }
        },
        {
          "output_type": "display_data",
          "data": {
            "image/png": "[encoded data removed]",
            "text/plain": [
              "<matplotlib.figure.Figure at 0x7f403ed30860>"
            ]
          },
          "metadata": {
            "tags": []
          }
        },
        {
          "output_type": "display_data",
          "data": {
            "image/png": "[encoded data removed]",
            "text/plain": [
              "<matplotlib.figure.Figure at 0x7f403ed09978>"
            ]
          },
          "metadata": {
            "tags": []
          }
        },
        {
          "output_type": "display_data",
          "data": {
            "image/png": "[encoded data removed]",
            "text/plain": [
              "<matplotlib.figure.Figure at 0x7f403ec6a940>"
            ]
          },
          "metadata": {
            "tags": []
          }
        },
        {
          "output_type": "display_data",
          "data": {
            "image/png": "[encoded data removed]",
            "text/plain": [
              "<matplotlib.figure.Figure at 0x7f403eca53c8>"
            ]
          },
          "metadata": {
            "tags": []
          }
        }
      ]
    },
    {
      "metadata": {
        "id": "8PJ2cA1myU9E",
        "colab_type": "text"
      },
      "cell_type": "markdown",
      "source": [
        "We can clearly see that our generator is trying to generate certain MNIST digits by itself.However GANs being notoriously difficult to train take lots of time for training and hence the distorted images."
      ]
    },
    {
      "metadata": {
        "id": "puzuh8XIyPbp",
        "colab_type": "code",
        "colab": {}
      },
      "cell_type": "code",
      "source": [
        ""
      ],
      "execution_count": 0,
      "outputs": []
    }
  ]
}